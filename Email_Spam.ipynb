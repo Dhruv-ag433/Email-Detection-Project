{
  "cells": [
    {
      "cell_type": "code",
      "execution_count": 1,
      "metadata": {
        "id": "A_uqnIB3q3cF"
      },
      "outputs": [],
      "source": [
        "import pandas as pd\n",
        "\n",
        "df = pd.read_csv(\"SMSSpamCollection\", delimiter = '\\t')"
      ]
    },
    {
      "cell_type": "code",
      "execution_count": 2,
      "metadata": {
        "colab": {
          "base_uri": "https://localhost:8080/",
          "height": 206
        },
        "id": "Y4sKdMJ0ro9x",
        "outputId": "1675bbc7-4688-4f7b-8ce7-80152fdde81e"
      },
      "outputs": [
        {
          "data": {
            "text/html": [
              "<div>\n",
              "<style scoped>\n",
              "    .dataframe tbody tr th:only-of-type {\n",
              "        vertical-align: middle;\n",
              "    }\n",
              "\n",
              "    .dataframe tbody tr th {\n",
              "        vertical-align: top;\n",
              "    }\n",
              "\n",
              "    .dataframe thead th {\n",
              "        text-align: right;\n",
              "    }\n",
              "</style>\n",
              "<table border=\"1\" class=\"dataframe\">\n",
              "  <thead>\n",
              "    <tr style=\"text-align: right;\">\n",
              "      <th></th>\n",
              "      <th>Data</th>\n",
              "      <th>Label</th>\n",
              "    </tr>\n",
              "  </thead>\n",
              "  <tbody>\n",
              "    <tr>\n",
              "      <th>0</th>\n",
              "      <td>Ok lar... Joking wif u oni...</td>\n",
              "      <td>ham</td>\n",
              "    </tr>\n",
              "    <tr>\n",
              "      <th>1</th>\n",
              "      <td>Free entry in 2 a wkly comp to win FA Cup fina...</td>\n",
              "      <td>spam</td>\n",
              "    </tr>\n",
              "    <tr>\n",
              "      <th>2</th>\n",
              "      <td>U dun say so early hor... U c already then say...</td>\n",
              "      <td>ham</td>\n",
              "    </tr>\n",
              "    <tr>\n",
              "      <th>3</th>\n",
              "      <td>Nah I don't think he goes to usf, he lives aro...</td>\n",
              "      <td>ham</td>\n",
              "    </tr>\n",
              "    <tr>\n",
              "      <th>4</th>\n",
              "      <td>FreeMsg Hey there darling it's been 3 week's n...</td>\n",
              "      <td>spam</td>\n",
              "    </tr>\n",
              "  </tbody>\n",
              "</table>\n",
              "</div>"
            ],
            "text/plain": [
              "                                                Data Label\n",
              "0                      Ok lar... Joking wif u oni...   ham\n",
              "1  Free entry in 2 a wkly comp to win FA Cup fina...  spam\n",
              "2  U dun say so early hor... U c already then say...   ham\n",
              "3  Nah I don't think he goes to usf, he lives aro...   ham\n",
              "4  FreeMsg Hey there darling it's been 3 week's n...  spam"
            ]
          },
          "execution_count": 2,
          "metadata": {},
          "output_type": "execute_result"
        }
      ],
      "source": [
        "df = df.iloc[:, [1, 0]]\n",
        "df.columns = [\"Data\", \"Label\"]\n",
        "\n",
        "df.head()"
      ]
    },
    {
      "cell_type": "code",
      "execution_count": 3,
      "metadata": {
        "id": "qo_Lx8zOsljz"
      },
      "outputs": [],
      "source": [
        "df.to_csv(\"Dataset.csv\", index = False)"
      ]
    },
    {
      "cell_type": "code",
      "execution_count": 4,
      "metadata": {
        "colab": {
          "base_uri": "https://localhost:8080/",
          "height": 423
        },
        "id": "oyasVUExs8AA",
        "outputId": "f75a4355-a239-4c49-d44d-594fc71e9602"
      },
      "outputs": [
        {
          "data": {
            "text/html": [
              "<div>\n",
              "<style scoped>\n",
              "    .dataframe tbody tr th:only-of-type {\n",
              "        vertical-align: middle;\n",
              "    }\n",
              "\n",
              "    .dataframe tbody tr th {\n",
              "        vertical-align: top;\n",
              "    }\n",
              "\n",
              "    .dataframe thead th {\n",
              "        text-align: right;\n",
              "    }\n",
              "</style>\n",
              "<table border=\"1\" class=\"dataframe\">\n",
              "  <thead>\n",
              "    <tr style=\"text-align: right;\">\n",
              "      <th></th>\n",
              "      <th>Data</th>\n",
              "      <th>Label</th>\n",
              "    </tr>\n",
              "  </thead>\n",
              "  <tbody>\n",
              "    <tr>\n",
              "      <th>0</th>\n",
              "      <td>Ok lar... Joking wif u oni...</td>\n",
              "      <td>ham</td>\n",
              "    </tr>\n",
              "    <tr>\n",
              "      <th>1</th>\n",
              "      <td>Free entry in 2 a wkly comp to win FA Cup fina...</td>\n",
              "      <td>spam</td>\n",
              "    </tr>\n",
              "    <tr>\n",
              "      <th>2</th>\n",
              "      <td>U dun say so early hor... U c already then say...</td>\n",
              "      <td>ham</td>\n",
              "    </tr>\n",
              "    <tr>\n",
              "      <th>3</th>\n",
              "      <td>Nah I don't think he goes to usf, he lives aro...</td>\n",
              "      <td>ham</td>\n",
              "    </tr>\n",
              "    <tr>\n",
              "      <th>4</th>\n",
              "      <td>FreeMsg Hey there darling it's been 3 week's n...</td>\n",
              "      <td>spam</td>\n",
              "    </tr>\n",
              "    <tr>\n",
              "      <th>...</th>\n",
              "      <td>...</td>\n",
              "      <td>...</td>\n",
              "    </tr>\n",
              "    <tr>\n",
              "      <th>5566</th>\n",
              "      <td>This is the 2nd time we have tried 2 contact u...</td>\n",
              "      <td>spam</td>\n",
              "    </tr>\n",
              "    <tr>\n",
              "      <th>5567</th>\n",
              "      <td>Will ü b going to esplanade fr home?</td>\n",
              "      <td>ham</td>\n",
              "    </tr>\n",
              "    <tr>\n",
              "      <th>5568</th>\n",
              "      <td>Pity, * was in mood for that. So...any other s...</td>\n",
              "      <td>ham</td>\n",
              "    </tr>\n",
              "    <tr>\n",
              "      <th>5569</th>\n",
              "      <td>The guy did some bitching but I acted like i'd...</td>\n",
              "      <td>ham</td>\n",
              "    </tr>\n",
              "    <tr>\n",
              "      <th>5570</th>\n",
              "      <td>Rofl. Its true to its name</td>\n",
              "      <td>ham</td>\n",
              "    </tr>\n",
              "  </tbody>\n",
              "</table>\n",
              "<p>5571 rows × 2 columns</p>\n",
              "</div>"
            ],
            "text/plain": [
              "                                                   Data Label\n",
              "0                         Ok lar... Joking wif u oni...   ham\n",
              "1     Free entry in 2 a wkly comp to win FA Cup fina...  spam\n",
              "2     U dun say so early hor... U c already then say...   ham\n",
              "3     Nah I don't think he goes to usf, he lives aro...   ham\n",
              "4     FreeMsg Hey there darling it's been 3 week's n...  spam\n",
              "...                                                 ...   ...\n",
              "5566  This is the 2nd time we have tried 2 contact u...  spam\n",
              "5567               Will ü b going to esplanade fr home?   ham\n",
              "5568  Pity, * was in mood for that. So...any other s...   ham\n",
              "5569  The guy did some bitching but I acted like i'd...   ham\n",
              "5570                         Rofl. Its true to its name   ham\n",
              "\n",
              "[5571 rows x 2 columns]"
            ]
          },
          "execution_count": 4,
          "metadata": {},
          "output_type": "execute_result"
        }
      ],
      "source": [
        "df = pd.read_csv(\"Dataset.csv\")\n",
        "df"
      ]
    },
    {
      "cell_type": "code",
      "execution_count": 5,
      "metadata": {
        "colab": {
          "base_uri": "https://localhost:8080/",
          "height": 206
        },
        "id": "Eea1yBZhtgDO",
        "outputId": "f401de22-1de9-41b0-b5fa-0267f1fdfe34"
      },
      "outputs": [
        {
          "data": {
            "text/html": [
              "<div>\n",
              "<style scoped>\n",
              "    .dataframe tbody tr th:only-of-type {\n",
              "        vertical-align: middle;\n",
              "    }\n",
              "\n",
              "    .dataframe tbody tr th {\n",
              "        vertical-align: top;\n",
              "    }\n",
              "\n",
              "    .dataframe thead th {\n",
              "        text-align: right;\n",
              "    }\n",
              "</style>\n",
              "<table border=\"1\" class=\"dataframe\">\n",
              "  <thead>\n",
              "    <tr style=\"text-align: right;\">\n",
              "      <th></th>\n",
              "      <th>Data</th>\n",
              "      <th>Label</th>\n",
              "    </tr>\n",
              "  </thead>\n",
              "  <tbody>\n",
              "    <tr>\n",
              "      <th>0</th>\n",
              "      <td>ok lar joking wif u oni</td>\n",
              "      <td>ham</td>\n",
              "    </tr>\n",
              "    <tr>\n",
              "      <th>1</th>\n",
              "      <td>free entry in 2 a wkly comp to win fa cup fina...</td>\n",
              "      <td>spam</td>\n",
              "    </tr>\n",
              "    <tr>\n",
              "      <th>2</th>\n",
              "      <td>u dun say so early hor u c already then say</td>\n",
              "      <td>ham</td>\n",
              "    </tr>\n",
              "    <tr>\n",
              "      <th>3</th>\n",
              "      <td>nah i don t think he goes to usf he lives arou...</td>\n",
              "      <td>ham</td>\n",
              "    </tr>\n",
              "    <tr>\n",
              "      <th>4</th>\n",
              "      <td>freemsg hey there darling it s been 3 week s n...</td>\n",
              "      <td>spam</td>\n",
              "    </tr>\n",
              "  </tbody>\n",
              "</table>\n",
              "</div>"
            ],
            "text/plain": [
              "                                                Data Label\n",
              "0                           ok lar joking wif u oni    ham\n",
              "1  free entry in 2 a wkly comp to win fa cup fina...  spam\n",
              "2       u dun say so early hor u c already then say    ham\n",
              "3  nah i don t think he goes to usf he lives arou...   ham\n",
              "4  freemsg hey there darling it s been 3 week s n...  spam"
            ]
          },
          "execution_count": 5,
          "metadata": {},
          "output_type": "execute_result"
        }
      ],
      "source": [
        "import re\n",
        "\n",
        "def clean_text(text):\n",
        "    text = re.sub(r'\\W', ' ', str(text))\n",
        "    text = text.lower()\n",
        "    text = re.sub(r'\\s+', ' ', text)\n",
        "    return text\n",
        "\n",
        "df[\"Data\"] = df[\"Data\"].apply(clean_text)\n",
        "df.head()"
      ]
    },
    {
      "cell_type": "code",
      "execution_count": 6,
      "metadata": {
        "colab": {
          "base_uri": "https://localhost:8080/",
          "height": 206
        },
        "id": "AMvfUwEtueox",
        "outputId": "bb30ac6f-c289-4b69-a9b2-d5ddbaa08a2f"
      },
      "outputs": [
        {
          "data": {
            "text/html": [
              "<div>\n",
              "<style scoped>\n",
              "    .dataframe tbody tr th:only-of-type {\n",
              "        vertical-align: middle;\n",
              "    }\n",
              "\n",
              "    .dataframe tbody tr th {\n",
              "        vertical-align: top;\n",
              "    }\n",
              "\n",
              "    .dataframe thead th {\n",
              "        text-align: right;\n",
              "    }\n",
              "</style>\n",
              "<table border=\"1\" class=\"dataframe\">\n",
              "  <thead>\n",
              "    <tr style=\"text-align: right;\">\n",
              "      <th></th>\n",
              "      <th>Data</th>\n",
              "      <th>Label</th>\n",
              "    </tr>\n",
              "  </thead>\n",
              "  <tbody>\n",
              "    <tr>\n",
              "      <th>0</th>\n",
              "      <td>ok lar joking wif u oni</td>\n",
              "      <td>0</td>\n",
              "    </tr>\n",
              "    <tr>\n",
              "      <th>1</th>\n",
              "      <td>free entry in 2 a wkly comp to win fa cup fina...</td>\n",
              "      <td>1</td>\n",
              "    </tr>\n",
              "    <tr>\n",
              "      <th>2</th>\n",
              "      <td>u dun say so early hor u c already then say</td>\n",
              "      <td>0</td>\n",
              "    </tr>\n",
              "    <tr>\n",
              "      <th>3</th>\n",
              "      <td>nah i don t think he goes to usf he lives arou...</td>\n",
              "      <td>0</td>\n",
              "    </tr>\n",
              "    <tr>\n",
              "      <th>4</th>\n",
              "      <td>freemsg hey there darling it s been 3 week s n...</td>\n",
              "      <td>1</td>\n",
              "    </tr>\n",
              "  </tbody>\n",
              "</table>\n",
              "</div>"
            ],
            "text/plain": [
              "                                                Data  Label\n",
              "0                           ok lar joking wif u oni       0\n",
              "1  free entry in 2 a wkly comp to win fa cup fina...      1\n",
              "2       u dun say so early hor u c already then say       0\n",
              "3  nah i don t think he goes to usf he lives arou...      0\n",
              "4  freemsg hey there darling it s been 3 week s n...      1"
            ]
          },
          "execution_count": 6,
          "metadata": {},
          "output_type": "execute_result"
        }
      ],
      "source": [
        "df[\"Label\"] = df[\"Label\"].map({'spam': 1, 'ham': 0})\n",
        "df.head()"
      ]
    },
    {
      "cell_type": "code",
      "execution_count": 7,
      "metadata": {
        "colab": {
          "base_uri": "https://localhost:8080/",
          "height": 178
        },
        "id": "J0DlFYGx-OjU",
        "outputId": "b932906c-4ddc-4171-8c2c-fe3c7f594fd2"
      },
      "outputs": [
        {
          "data": {
            "text/plain": [
              "Label\n",
              "0    4824\n",
              "1     747\n",
              "Name: count, dtype: int64"
            ]
          },
          "execution_count": 7,
          "metadata": {},
          "output_type": "execute_result"
        }
      ],
      "source": [
        "df['Label'].value_counts()"
      ]
    },
    {
      "cell_type": "code",
      "execution_count": 8,
      "metadata": {
        "colab": {
          "base_uri": "https://localhost:8080/",
          "height": 255
        },
        "id": "zCp2rcvou68Y",
        "outputId": "c287ed72-d76c-42f4-82e9-cd96e4614546"
      },
      "outputs": [
        {
          "name": "stderr",
          "output_type": "stream",
          "text": [
            "c:\\Users\\dhruv\\AppData\\Local\\Programs\\Python\\Python312\\Lib\\site-packages\\sklearn\\base.py:474: FutureWarning: `BaseEstimator._validate_data` is deprecated in 1.6 and will be removed in 1.7. Use `sklearn.utils.validation.validate_data` instead. This function becomes public and is part of the scikit-learn developer API.\n",
            "  warnings.warn(\n"
          ]
        },
        {
          "data": {
            "text/html": [
              "<div>\n",
              "<style scoped>\n",
              "    .dataframe tbody tr th:only-of-type {\n",
              "        vertical-align: middle;\n",
              "    }\n",
              "\n",
              "    .dataframe tbody tr th {\n",
              "        vertical-align: top;\n",
              "    }\n",
              "\n",
              "    .dataframe thead th {\n",
              "        text-align: right;\n",
              "    }\n",
              "</style>\n",
              "<table border=\"1\" class=\"dataframe\">\n",
              "  <thead>\n",
              "    <tr style=\"text-align: right;\">\n",
              "      <th></th>\n",
              "      <th>00</th>\n",
              "      <th>000</th>\n",
              "      <th>008704050406</th>\n",
              "      <th>01223585334</th>\n",
              "      <th>02</th>\n",
              "      <th>0207</th>\n",
              "      <th>02073162414</th>\n",
              "      <th>021</th>\n",
              "      <th>03</th>\n",
              "      <th>04</th>\n",
              "      <th>...</th>\n",
              "      <th>zeros</th>\n",
              "      <th>zhong</th>\n",
              "      <th>zindgi</th>\n",
              "      <th>zoe</th>\n",
              "      <th>zogtorius</th>\n",
              "      <th>zoom</th>\n",
              "      <th>zouk</th>\n",
              "      <th>zyada</th>\n",
              "      <th>èn</th>\n",
              "      <th>Label</th>\n",
              "    </tr>\n",
              "  </thead>\n",
              "  <tbody>\n",
              "    <tr>\n",
              "      <th>0</th>\n",
              "      <td>0.0</td>\n",
              "      <td>0.0</td>\n",
              "      <td>0.0</td>\n",
              "      <td>0.0</td>\n",
              "      <td>0.0</td>\n",
              "      <td>0.0</td>\n",
              "      <td>0.0</td>\n",
              "      <td>0.0</td>\n",
              "      <td>0.0</td>\n",
              "      <td>0.0</td>\n",
              "      <td>...</td>\n",
              "      <td>0.0</td>\n",
              "      <td>0.0</td>\n",
              "      <td>0.0</td>\n",
              "      <td>0.0</td>\n",
              "      <td>0.0</td>\n",
              "      <td>0.0</td>\n",
              "      <td>0.0</td>\n",
              "      <td>0.0</td>\n",
              "      <td>0.0</td>\n",
              "      <td>0</td>\n",
              "    </tr>\n",
              "    <tr>\n",
              "      <th>1</th>\n",
              "      <td>0.0</td>\n",
              "      <td>0.0</td>\n",
              "      <td>0.0</td>\n",
              "      <td>0.0</td>\n",
              "      <td>0.0</td>\n",
              "      <td>0.0</td>\n",
              "      <td>0.0</td>\n",
              "      <td>0.0</td>\n",
              "      <td>0.0</td>\n",
              "      <td>0.0</td>\n",
              "      <td>...</td>\n",
              "      <td>0.0</td>\n",
              "      <td>0.0</td>\n",
              "      <td>0.0</td>\n",
              "      <td>0.0</td>\n",
              "      <td>0.0</td>\n",
              "      <td>0.0</td>\n",
              "      <td>0.0</td>\n",
              "      <td>0.0</td>\n",
              "      <td>0.0</td>\n",
              "      <td>1</td>\n",
              "    </tr>\n",
              "    <tr>\n",
              "      <th>2</th>\n",
              "      <td>0.0</td>\n",
              "      <td>0.0</td>\n",
              "      <td>0.0</td>\n",
              "      <td>0.0</td>\n",
              "      <td>0.0</td>\n",
              "      <td>0.0</td>\n",
              "      <td>0.0</td>\n",
              "      <td>0.0</td>\n",
              "      <td>0.0</td>\n",
              "      <td>0.0</td>\n",
              "      <td>...</td>\n",
              "      <td>0.0</td>\n",
              "      <td>0.0</td>\n",
              "      <td>0.0</td>\n",
              "      <td>0.0</td>\n",
              "      <td>0.0</td>\n",
              "      <td>0.0</td>\n",
              "      <td>0.0</td>\n",
              "      <td>0.0</td>\n",
              "      <td>0.0</td>\n",
              "      <td>0</td>\n",
              "    </tr>\n",
              "    <tr>\n",
              "      <th>3</th>\n",
              "      <td>0.0</td>\n",
              "      <td>0.0</td>\n",
              "      <td>0.0</td>\n",
              "      <td>0.0</td>\n",
              "      <td>0.0</td>\n",
              "      <td>0.0</td>\n",
              "      <td>0.0</td>\n",
              "      <td>0.0</td>\n",
              "      <td>0.0</td>\n",
              "      <td>0.0</td>\n",
              "      <td>...</td>\n",
              "      <td>0.0</td>\n",
              "      <td>0.0</td>\n",
              "      <td>0.0</td>\n",
              "      <td>0.0</td>\n",
              "      <td>0.0</td>\n",
              "      <td>0.0</td>\n",
              "      <td>0.0</td>\n",
              "      <td>0.0</td>\n",
              "      <td>0.0</td>\n",
              "      <td>0</td>\n",
              "    </tr>\n",
              "    <tr>\n",
              "      <th>4</th>\n",
              "      <td>0.0</td>\n",
              "      <td>0.0</td>\n",
              "      <td>0.0</td>\n",
              "      <td>0.0</td>\n",
              "      <td>0.0</td>\n",
              "      <td>0.0</td>\n",
              "      <td>0.0</td>\n",
              "      <td>0.0</td>\n",
              "      <td>0.0</td>\n",
              "      <td>0.0</td>\n",
              "      <td>...</td>\n",
              "      <td>0.0</td>\n",
              "      <td>0.0</td>\n",
              "      <td>0.0</td>\n",
              "      <td>0.0</td>\n",
              "      <td>0.0</td>\n",
              "      <td>0.0</td>\n",
              "      <td>0.0</td>\n",
              "      <td>0.0</td>\n",
              "      <td>0.0</td>\n",
              "      <td>1</td>\n",
              "    </tr>\n",
              "  </tbody>\n",
              "</table>\n",
              "<p>5 rows × 5001 columns</p>\n",
              "</div>"
            ],
            "text/plain": [
              "    00  000  008704050406  01223585334   02  0207  02073162414  021   03   04  \\\n",
              "0  0.0  0.0           0.0          0.0  0.0   0.0          0.0  0.0  0.0  0.0   \n",
              "1  0.0  0.0           0.0          0.0  0.0   0.0          0.0  0.0  0.0  0.0   \n",
              "2  0.0  0.0           0.0          0.0  0.0   0.0          0.0  0.0  0.0  0.0   \n",
              "3  0.0  0.0           0.0          0.0  0.0   0.0          0.0  0.0  0.0  0.0   \n",
              "4  0.0  0.0           0.0          0.0  0.0   0.0          0.0  0.0  0.0  0.0   \n",
              "\n",
              "   ...  zeros  zhong  zindgi  zoe  zogtorius  zoom  zouk  zyada   èn  Label  \n",
              "0  ...    0.0    0.0     0.0  0.0        0.0   0.0   0.0    0.0  0.0      0  \n",
              "1  ...    0.0    0.0     0.0  0.0        0.0   0.0   0.0    0.0  0.0      1  \n",
              "2  ...    0.0    0.0     0.0  0.0        0.0   0.0   0.0    0.0  0.0      0  \n",
              "3  ...    0.0    0.0     0.0  0.0        0.0   0.0   0.0    0.0  0.0      0  \n",
              "4  ...    0.0    0.0     0.0  0.0        0.0   0.0   0.0    0.0  0.0      1  \n",
              "\n",
              "[5 rows x 5001 columns]"
            ]
          },
          "execution_count": 8,
          "metadata": {},
          "output_type": "execute_result"
        }
      ],
      "source": [
        "from sklearn.feature_extraction.text import TfidfVectorizer\n",
        "from imblearn.over_sampling import SMOTE\n",
        "\n",
        "tfidf = TfidfVectorizer(max_features = 5000)\n",
        "x_tfidf = tfidf.fit_transform(df[\"Data\"])\n",
        "\n",
        "smote = SMOTE(random_state = 42)\n",
        "x_upsample, y_upsample = smote.fit_resample(x_tfidf, df['Label'])\n",
        "\n",
        "df_upsampled = pd.DataFrame(x_upsample.toarray(), columns = tfidf.get_feature_names_out())\n",
        "df_upsampled['Label'] = y_upsample\n",
        "\n",
        "df_upsampled.head()"
      ]
    },
    {
      "cell_type": "code",
      "execution_count": 9,
      "metadata": {
        "colab": {
          "base_uri": "https://localhost:8080/",
          "height": 178
        },
        "id": "3tsyUXy9_3ig",
        "outputId": "62ddcf4a-4832-42c2-c97c-67d5628abb0e"
      },
      "outputs": [
        {
          "data": {
            "text/plain": [
              "Label\n",
              "0    4824\n",
              "1    4824\n",
              "Name: count, dtype: int64"
            ]
          },
          "execution_count": 9,
          "metadata": {},
          "output_type": "execute_result"
        }
      ],
      "source": [
        "df_upsampled['Label'].value_counts()"
      ]
    },
    {
      "cell_type": "code",
      "execution_count": 10,
      "metadata": {
        "colab": {
          "base_uri": "https://localhost:8080/"
        },
        "id": "vHzIcdML0mUL",
        "outputId": "f2024f49-01fb-4a9c-c415-8ae401645330"
      },
      "outputs": [
        {
          "name": "stdout",
          "output_type": "stream",
          "text": [
            "Accuracy: 0.9797927461139896\n",
            "Classification Report:\n",
            "               precision    recall  f1-score   support\n",
            "\n",
            "           0       0.98      0.98      0.98       975\n",
            "           1       0.98      0.98      0.98       955\n",
            "\n",
            "    accuracy                           0.98      1930\n",
            "   macro avg       0.98      0.98      0.98      1930\n",
            "weighted avg       0.98      0.98      0.98      1930\n",
            "\n"
          ]
        }
      ],
      "source": [
        "from sklearn.model_selection import train_test_split\n",
        "from sklearn.naive_bayes import MultinomialNB\n",
        "from sklearn.metrics import accuracy_score, classification_report\n",
        "\n",
        "x = df_upsampled.drop('Label', axis = 1)\n",
        "y = df_upsampled['Label']\n",
        "\n",
        "x_train, x_test, y_train, y_test = train_test_split(x, y, test_size = 0.2, random_state = 42)\n",
        "\n",
        "nb = MultinomialNB()\n",
        "nb.fit(x_train, y_train)\n",
        "\n",
        "y_pred = nb.predict(x_test)\n",
        "\n",
        "accuracy = accuracy_score(y_test, y_pred)\n",
        "print(\"Accuracy:\", accuracy)\n",
        "\n",
        "report = classification_report(y_test, y_pred)\n",
        "print(\"Classification Report:\\n\", report)\n"
      ]
    },
    {
      "cell_type": "code",
      "execution_count": 11,
      "metadata": {
        "colab": {
          "base_uri": "https://localhost:8080/",
          "height": 472
        },
        "id": "OAnupPr39e31",
        "outputId": "5ffe44a3-5471-4c34-a9e3-1cec5534fe5d"
      },
      "outputs": [
        {
          "data": {
            "image/png": "[encoded data removed]",
            "text/plain": [
              "<Figure size 640x480 with 2 Axes>"
            ]
          },
          "metadata": {},
          "output_type": "display_data"
        }
      ],
      "source": [
        "from sklearn.metrics import confusion_matrix\n",
        "import seaborn as sns\n",
        "import matplotlib.pyplot as plt\n",
        "\n",
        "conf_matrix = confusion_matrix(y_test, y_pred)\n",
        "sns.heatmap(conf_matrix, annot=True, fmt='d', cmap='Blues',\n",
        "            xticklabels = ['Spam', 'Ham'], yticklabels = ['Spam', 'Ham'])\n",
        "plt.title('Confusion Matrix')\n",
        "plt.xlabel('Predicted')\n",
        "plt.ylabel('Actual')\n",
        "plt.show()"
      ]
    },
    {
      "cell_type": "code",
      "execution_count": 17,
      "metadata": {
        "colab": {
          "base_uri": "https://localhost:8080/"
        },
        "id": "tgHZYCkOB64x",
        "outputId": "2e6591fb-ba1f-45ca-c71d-b2f0d30e9da7"
      },
      "outputs": [],
      "source": [
        "import pickle\n",
        "\n",
        "with open('spam_model.pkl', 'wb') as model_file:\n",
        "    pickle.dump(nb, model_file)\n",
        "    \n",
        "with open('spam_vectorizer.pkl', 'wb') as vectorizer_file:\n",
        "    pickle.dump(tfidf, vectorizer_file)"
      ]
    },
    {
      "cell_type": "code",
      "execution_count": 20,
      "metadata": {
        "colab": {
          "base_uri": "https://localhost:8080/"
        },
        "id": "KlmaJZT8CoLD",
        "outputId": "3d0172a6-b5e0-412a-e081-f23e5b9e7438"
      },
      "outputs": [
        {
          "name": "stdout",
          "output_type": "stream",
          "text": [
            "Email: Congratulations! You've won a $1000 Amazon gift card. Click here to claim your prize.\n",
            " Predicted Label: Spam\n",
            "\n",
            "Email: Hi John, Just checking in to see how the project is going. Let me know if you need any assistance.\n",
            " Predicted Label: Ham\n",
            "\n",
            "Email: Urgent! Your bank account has been compromised. Please log in immediately to secure your account.\n",
            " Predicted Label: Spam\n",
            "\n",
            "Email: Your subscription to the newsletter has been successfully renewed. Thank you for being a valued customer!\n",
            " Predicted Label: Spam\n",
            "\n"
          ]
        }
      ],
      "source": [
        "with open('spam_model.pkl', 'rb') as model_file:\n",
        "    model = pickle.load(model_file)\n",
        "    \n",
        "with open('spam_vectorizer.pkl', 'rb') as vectorizer_file:\n",
        "    tfidf = pickle.load(vectorizer_file)\n",
        "\n",
        "test_emails = [\n",
        "    \"Congratulations! You've won a $1000 Amazon gift card. Click here to claim your prize.\",\n",
        "    \"Hi John, Just checking in to see how the project is going. Let me know if you need any assistance.\",\n",
        "    \"Urgent! Your bank account has been compromised. Please log in immediately to secure your account.\",\n",
        "    \"Your subscription to the newsletter has been successfully renewed. Thank you for being a valued customer!\"\n",
        "]\n",
        "\n",
        "test_emails_tfidf = tfidf.transform(test_emails)\n",
        "predictions = model.predict(test_emails_tfidf)\n",
        "\n",
        "for email, label in zip(test_emails, predictions):\n",
        "    print(f\"Email: {email}\\n Predicted Label: {'Spam' if label == 1 else 'Ham'}\\n\" )\n"
      ]
    },
    {
      "cell_type": "code",
      "execution_count": null,
      "metadata": {
        "id": "mD2URf52Frh7"
      },
      "outputs": [],
      "source": []
    }
  ],
  "metadata": {
    "colab": {
      "provenance": []
    },
    "kernelspec": {
      "display_name": "Python 3",
      "name": "python3"
    },
    "language_info": {
      "codemirror_mode": {
        "name": "ipython",
        "version": 3
      },
      "file_extension": ".py",
      "mimetype": "text/x-python",
      "name": "python",
      "nbconvert_exporter": "python",
      "pygments_lexer": "ipython3",
      "version": "3.12.0"
    }
  },
  "nbformat": 4,
  "nbformat_minor": 0
}
