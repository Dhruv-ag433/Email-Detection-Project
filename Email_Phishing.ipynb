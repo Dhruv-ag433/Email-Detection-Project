{
  "cells": [
    {
      "cell_type": "code",
      "execution_count": 4,
      "metadata": {
        "id": "Iz6CYyxkCWih"
      },
      "outputs": [],
      "source": [
        "import csv\n",
        "import pandas as pd"
      ]
    },
    {
      "cell_type": "code",
      "execution_count": 5,
      "metadata": {
        "colab": {
          "base_uri": "https://localhost:8080/",
          "height": 573
        },
        "id": "IVK-XOBgNJ0O",
        "outputId": "9c7b6ce9-bf22-4b0e-9bdc-88780c495566"
      },
      "outputs": [
        {
          "data": {
            "text/html": [
              "<div>\n",
              "<style scoped>\n",
              "    .dataframe tbody tr th:only-of-type {\n",
              "        vertical-align: middle;\n",
              "    }\n",
              "\n",
              "    .dataframe tbody tr th {\n",
              "        vertical-align: top;\n",
              "    }\n",
              "\n",
              "    .dataframe thead th {\n",
              "        text-align: right;\n",
              "    }\n",
              "</style>\n",
              "<table border=\"1\" class=\"dataframe\">\n",
              "  <thead>\n",
              "    <tr style=\"text-align: right;\">\n",
              "      <th></th>\n",
              "      <th>sender</th>\n",
              "      <th>receiver</th>\n",
              "      <th>date</th>\n",
              "      <th>subject</th>\n",
              "      <th>body</th>\n",
              "      <th>label</th>\n",
              "      <th>urls</th>\n",
              "    </tr>\n",
              "  </thead>\n",
              "  <tbody>\n",
              "    <tr>\n",
              "      <th>0</th>\n",
              "      <td>\"Hu, Sylvia\" &lt;Sylvia.Hu@ENRON.com&gt;</td>\n",
              "      <td>\"Acevedo, Felecia\" &lt;Felecia.Acevedo@ENRON.com&gt;...</td>\n",
              "      <td>Fri, 29 Jun 2001 08:36:09 -0500</td>\n",
              "      <td>FW: June 29 -- BNA, Inc. Daily Labor Report</td>\n",
              "      <td>User ID:  enrondlr PW:        bnaweb22  -----O...</td>\n",
              "      <td>0.0</td>\n",
              "      <td>1.0</td>\n",
              "    </tr>\n",
              "    <tr>\n",
              "      <th>1</th>\n",
              "      <td>\"Webb, Jay\" &lt;Jay.Webb@ENRON.com&gt;</td>\n",
              "      <td>\"Lambie, Chris\" &lt;Chris.Lambie@ENRON.com&gt;</td>\n",
              "      <td>Fri, 29 Jun 2001 09:37:04 -0500</td>\n",
              "      <td>NGX failover plan.</td>\n",
              "      <td>\\nHi Chris,  \\n\\nTonight we are rolling out a ...</td>\n",
              "      <td>0.0</td>\n",
              "      <td>0.0</td>\n",
              "    </tr>\n",
              "    <tr>\n",
              "      <th>2</th>\n",
              "      <td>\"Symms, Mark\" &lt;Mark.Symms@ENRON.com&gt;</td>\n",
              "      <td>\"Thomas, Paul D.\" &lt;Paul.D.Thomas@ENRON.com&gt;</td>\n",
              "      <td>Fri, 29 Jun 2001 08:39:30 -0500</td>\n",
              "      <td>RE: Intranet Site</td>\n",
              "      <td>Rika r these new?\\n\\n -----Original Message---...</td>\n",
              "      <td>0.0</td>\n",
              "      <td>1.0</td>\n",
              "    </tr>\n",
              "    <tr>\n",
              "      <th>3</th>\n",
              "      <td>\"Thorne, Judy\" &lt;Judy.Thorne@ENRON.com&gt;</td>\n",
              "      <td>\"Grass, John\" &lt;John.Grass@ENRON.com&gt;, \"Nemec, ...</td>\n",
              "      <td>Fri, 29 Jun 2001 10:35:17 -0500</td>\n",
              "      <td>FW: ENA Upstream Company information</td>\n",
              "      <td>John/Gerald, We are currently trading under GT...</td>\n",
              "      <td>0.0</td>\n",
              "      <td>0.0</td>\n",
              "    </tr>\n",
              "    <tr>\n",
              "      <th>4</th>\n",
              "      <td>\"Williams, Jason R (Credit)\" &lt;Jason.R.Williams...</td>\n",
              "      <td>\"Nemec, Gerald\" &lt;Gerald.Nemec@ENRON.com&gt;, \"Dic...</td>\n",
              "      <td>Fri, 29 Jun 2001 10:40:02 -0500</td>\n",
              "      <td>New Master Physical</td>\n",
              "      <td>Gerald and Stacy -\\n\\nAttached is a worksheet ...</td>\n",
              "      <td>0.0</td>\n",
              "      <td>0.0</td>\n",
              "    </tr>\n",
              "  </tbody>\n",
              "</table>\n",
              "</div>"
            ],
            "text/plain": [
              "                                              sender  \\\n",
              "0                 \"Hu, Sylvia\" <Sylvia.Hu@ENRON.com>   \n",
              "1                   \"Webb, Jay\" <Jay.Webb@ENRON.com>   \n",
              "2               \"Symms, Mark\" <Mark.Symms@ENRON.com>   \n",
              "3             \"Thorne, Judy\" <Judy.Thorne@ENRON.com>   \n",
              "4  \"Williams, Jason R (Credit)\" <Jason.R.Williams...   \n",
              "\n",
              "                                            receiver  \\\n",
              "0  \"Acevedo, Felecia\" <Felecia.Acevedo@ENRON.com>...   \n",
              "1           \"Lambie, Chris\" <Chris.Lambie@ENRON.com>   \n",
              "2        \"Thomas, Paul D.\" <Paul.D.Thomas@ENRON.com>   \n",
              "3  \"Grass, John\" <John.Grass@ENRON.com>, \"Nemec, ...   \n",
              "4  \"Nemec, Gerald\" <Gerald.Nemec@ENRON.com>, \"Dic...   \n",
              "\n",
              "                              date  \\\n",
              "0  Fri, 29 Jun 2001 08:36:09 -0500   \n",
              "1  Fri, 29 Jun 2001 09:37:04 -0500   \n",
              "2  Fri, 29 Jun 2001 08:39:30 -0500   \n",
              "3  Fri, 29 Jun 2001 10:35:17 -0500   \n",
              "4  Fri, 29 Jun 2001 10:40:02 -0500   \n",
              "\n",
              "                                       subject  \\\n",
              "0  FW: June 29 -- BNA, Inc. Daily Labor Report   \n",
              "1                           NGX failover plan.   \n",
              "2                            RE: Intranet Site   \n",
              "3         FW: ENA Upstream Company information   \n",
              "4                          New Master Physical   \n",
              "\n",
              "                                                body  label  urls  \n",
              "0  User ID:  enrondlr PW:        bnaweb22  -----O...    0.0   1.0  \n",
              "1  \\nHi Chris,  \\n\\nTonight we are rolling out a ...    0.0   0.0  \n",
              "2  Rika r these new?\\n\\n -----Original Message---...    0.0   1.0  \n",
              "3  John/Gerald, We are currently trading under GT...    0.0   0.0  \n",
              "4  Gerald and Stacy -\\n\\nAttached is a worksheet ...    0.0   0.0  "
            ]
          },
          "execution_count": 5,
          "metadata": {},
          "output_type": "execute_result"
        }
      ],
      "source": [
        "csv.field_size_limit(100000000)\n",
        "\n",
        "phish_df = pd.read_csv('TREC_05.csv', engine = 'python', quoting = csv.QUOTE_MINIMAL)\n",
        "phish_df.head()"
      ]
    },
    {
      "cell_type": "code",
      "execution_count": 6,
      "metadata": {
        "colab": {
          "base_uri": "https://localhost:8080/",
          "height": 303
        },
        "id": "U9fFL46VSlrS",
        "outputId": "9752a4ec-fb42-4d6d-a71e-14a5feea14d3"
      },
      "outputs": [
        {
          "data": {
            "text/plain": [
              "sender        16\n",
              "receiver    2218\n",
              "date        1795\n",
              "subject     1896\n",
              "body         577\n",
              "label        715\n",
              "urls         715\n",
              "dtype: int64"
            ]
          },
          "execution_count": 6,
          "metadata": {},
          "output_type": "execute_result"
        }
      ],
      "source": [
        "phish_df.isna().sum()"
      ]
    },
    {
      "cell_type": "code",
      "execution_count": 7,
      "metadata": {
        "colab": {
          "base_uri": "https://localhost:8080/"
        },
        "id": "1tj8tgKETWps",
        "outputId": "b8896b61-b551-4ad0-a067-002208503170"
      },
      "outputs": [
        {
          "data": {
            "text/plain": [
              "(55990, 7)"
            ]
          },
          "execution_count": 7,
          "metadata": {},
          "output_type": "execute_result"
        }
      ],
      "source": [
        "phish_df.shape"
      ]
    },
    {
      "cell_type": "code",
      "execution_count": 8,
      "metadata": {
        "colab": {
          "base_uri": "https://localhost:8080/",
          "height": 501
        },
        "id": "5xNKDah0TaTV",
        "outputId": "d7a129b7-7c29-4bae-bcef-8f0f803b9bce"
      },
      "outputs": [
        {
          "data": {
            "text/html": [
              "<div>\n",
              "<style scoped>\n",
              "    .dataframe tbody tr th:only-of-type {\n",
              "        vertical-align: middle;\n",
              "    }\n",
              "\n",
              "    .dataframe tbody tr th {\n",
              "        vertical-align: top;\n",
              "    }\n",
              "\n",
              "    .dataframe thead th {\n",
              "        text-align: right;\n",
              "    }\n",
              "</style>\n",
              "<table border=\"1\" class=\"dataframe\">\n",
              "  <thead>\n",
              "    <tr style=\"text-align: right;\">\n",
              "      <th></th>\n",
              "      <th>sender</th>\n",
              "      <th>date</th>\n",
              "      <th>subject</th>\n",
              "      <th>body</th>\n",
              "      <th>label</th>\n",
              "      <th>urls</th>\n",
              "    </tr>\n",
              "  </thead>\n",
              "  <tbody>\n",
              "    <tr>\n",
              "      <th>0</th>\n",
              "      <td>\"Hu, Sylvia\" &lt;Sylvia.Hu@ENRON.com&gt;</td>\n",
              "      <td>Fri, 29 Jun 2001 08:36:09 -0500</td>\n",
              "      <td>FW: June 29 -- BNA, Inc. Daily Labor Report</td>\n",
              "      <td>User ID:  enrondlr PW:        bnaweb22  -----O...</td>\n",
              "      <td>0.0</td>\n",
              "      <td>1.0</td>\n",
              "    </tr>\n",
              "    <tr>\n",
              "      <th>1</th>\n",
              "      <td>\"Webb, Jay\" &lt;Jay.Webb@ENRON.com&gt;</td>\n",
              "      <td>Fri, 29 Jun 2001 09:37:04 -0500</td>\n",
              "      <td>NGX failover plan.</td>\n",
              "      <td>\\nHi Chris,  \\n\\nTonight we are rolling out a ...</td>\n",
              "      <td>0.0</td>\n",
              "      <td>0.0</td>\n",
              "    </tr>\n",
              "    <tr>\n",
              "      <th>2</th>\n",
              "      <td>\"Symms, Mark\" &lt;Mark.Symms@ENRON.com&gt;</td>\n",
              "      <td>Fri, 29 Jun 2001 08:39:30 -0500</td>\n",
              "      <td>RE: Intranet Site</td>\n",
              "      <td>Rika r these new?\\n\\n -----Original Message---...</td>\n",
              "      <td>0.0</td>\n",
              "      <td>1.0</td>\n",
              "    </tr>\n",
              "    <tr>\n",
              "      <th>3</th>\n",
              "      <td>\"Thorne, Judy\" &lt;Judy.Thorne@ENRON.com&gt;</td>\n",
              "      <td>Fri, 29 Jun 2001 10:35:17 -0500</td>\n",
              "      <td>FW: ENA Upstream Company information</td>\n",
              "      <td>John/Gerald, We are currently trading under GT...</td>\n",
              "      <td>0.0</td>\n",
              "      <td>0.0</td>\n",
              "    </tr>\n",
              "    <tr>\n",
              "      <th>4</th>\n",
              "      <td>\"Williams, Jason R (Credit)\" &lt;Jason.R.Williams...</td>\n",
              "      <td>Fri, 29 Jun 2001 10:40:02 -0500</td>\n",
              "      <td>New Master Physical</td>\n",
              "      <td>Gerald and Stacy -\\n\\nAttached is a worksheet ...</td>\n",
              "      <td>0.0</td>\n",
              "      <td>0.0</td>\n",
              "    </tr>\n",
              "  </tbody>\n",
              "</table>\n",
              "</div>"
            ],
            "text/plain": [
              "                                              sender  \\\n",
              "0                 \"Hu, Sylvia\" <Sylvia.Hu@ENRON.com>   \n",
              "1                   \"Webb, Jay\" <Jay.Webb@ENRON.com>   \n",
              "2               \"Symms, Mark\" <Mark.Symms@ENRON.com>   \n",
              "3             \"Thorne, Judy\" <Judy.Thorne@ENRON.com>   \n",
              "4  \"Williams, Jason R (Credit)\" <Jason.R.Williams...   \n",
              "\n",
              "                              date  \\\n",
              "0  Fri, 29 Jun 2001 08:36:09 -0500   \n",
              "1  Fri, 29 Jun 2001 09:37:04 -0500   \n",
              "2  Fri, 29 Jun 2001 08:39:30 -0500   \n",
              "3  Fri, 29 Jun 2001 10:35:17 -0500   \n",
              "4  Fri, 29 Jun 2001 10:40:02 -0500   \n",
              "\n",
              "                                       subject  \\\n",
              "0  FW: June 29 -- BNA, Inc. Daily Labor Report   \n",
              "1                           NGX failover plan.   \n",
              "2                            RE: Intranet Site   \n",
              "3         FW: ENA Upstream Company information   \n",
              "4                          New Master Physical   \n",
              "\n",
              "                                                body  label  urls  \n",
              "0  User ID:  enrondlr PW:        bnaweb22  -----O...    0.0   1.0  \n",
              "1  \\nHi Chris,  \\n\\nTonight we are rolling out a ...    0.0   0.0  \n",
              "2  Rika r these new?\\n\\n -----Original Message---...    0.0   1.0  \n",
              "3  John/Gerald, We are currently trading under GT...    0.0   0.0  \n",
              "4  Gerald and Stacy -\\n\\nAttached is a worksheet ...    0.0   0.0  "
            ]
          },
          "execution_count": 8,
          "metadata": {},
          "output_type": "execute_result"
        }
      ],
      "source": [
        "phish_df = phish_df.drop(columns = ['receiver'])\n",
        "phish_df.head()"
      ]
    },
    {
      "cell_type": "code",
      "execution_count": 9,
      "metadata": {
        "colab": {
          "base_uri": "https://localhost:8080/"
        },
        "id": "iffTy3RhU8lx",
        "outputId": "b62709db-e040-4d9d-a7b5-7cf26d284051"
      },
      "outputs": [
        {
          "data": {
            "text/plain": [
              "(52886, 6)"
            ]
          },
          "execution_count": 9,
          "metadata": {},
          "output_type": "execute_result"
        }
      ],
      "source": [
        "phish_df = phish_df.dropna()\n",
        "phish_df.shape"
      ]
    },
    {
      "cell_type": "code",
      "execution_count": 10,
      "metadata": {
        "id": "z6p9pCpwVR9u"
      },
      "outputs": [],
      "source": [
        "import string\n",
        "\n",
        "def clean_text(text):\n",
        "    text = text.lower()\n",
        "    text = ''.join([char for char in text if char not in string.punctuation])\n",
        "    return text\n",
        "\n",
        "phish_df['subject'] = phish_df['subject'].apply(clean_text)\n",
        "phish_df['body'] = phish_df['body'].apply(clean_text)\n",
        "phish_df['sender'] = phish_df['sender'].apply(clean_text)"
      ]
    },
    {
      "cell_type": "code",
      "execution_count": 11,
      "metadata": {
        "colab": {
          "base_uri": "https://localhost:8080/",
          "height": 573
        },
        "id": "0vWo2xytYPtt",
        "outputId": "c5d4f70a-1414-499b-8ee4-cf652889adf7"
      },
      "outputs": [
        {
          "data": {
            "text/html": [
              "<div>\n",
              "<style scoped>\n",
              "    .dataframe tbody tr th:only-of-type {\n",
              "        vertical-align: middle;\n",
              "    }\n",
              "\n",
              "    .dataframe tbody tr th {\n",
              "        vertical-align: top;\n",
              "    }\n",
              "\n",
              "    .dataframe thead th {\n",
              "        text-align: right;\n",
              "    }\n",
              "</style>\n",
              "<table border=\"1\" class=\"dataframe\">\n",
              "  <thead>\n",
              "    <tr style=\"text-align: right;\">\n",
              "      <th></th>\n",
              "      <th>sender</th>\n",
              "      <th>date</th>\n",
              "      <th>subject</th>\n",
              "      <th>body</th>\n",
              "      <th>label</th>\n",
              "      <th>urls</th>\n",
              "      <th>subject_tokens</th>\n",
              "      <th>body_tokens</th>\n",
              "    </tr>\n",
              "  </thead>\n",
              "  <tbody>\n",
              "    <tr>\n",
              "      <th>0</th>\n",
              "      <td>hu sylvia sylviahuenroncom</td>\n",
              "      <td>Fri, 29 Jun 2001 08:36:09 -0500</td>\n",
              "      <td>fw june 29  bna inc daily labor report</td>\n",
              "      <td>user id  enrondlr pw        bnaweb22  original...</td>\n",
              "      <td>0.0</td>\n",
              "      <td>1.0</td>\n",
              "      <td>[fw, june, 29, bna, inc, daily, labor, report]</td>\n",
              "      <td>[user, id, enrondlr, pw, bnaweb22, original, m...</td>\n",
              "    </tr>\n",
              "    <tr>\n",
              "      <th>1</th>\n",
              "      <td>webb jay jaywebbenroncom</td>\n",
              "      <td>Fri, 29 Jun 2001 09:37:04 -0500</td>\n",
              "      <td>ngx failover plan</td>\n",
              "      <td>\\nhi chris  \\n\\ntonight we are rolling out a n...</td>\n",
              "      <td>0.0</td>\n",
              "      <td>0.0</td>\n",
              "      <td>[ngx, failover, plan]</td>\n",
              "      <td>[hi, chris, tonight, we, are, rolling, out, a,...</td>\n",
              "    </tr>\n",
              "    <tr>\n",
              "      <th>2</th>\n",
              "      <td>symms mark marksymmsenroncom</td>\n",
              "      <td>Fri, 29 Jun 2001 08:39:30 -0500</td>\n",
              "      <td>re intranet site</td>\n",
              "      <td>rika r these new\\n\\n original message\\nfrom \\t...</td>\n",
              "      <td>0.0</td>\n",
              "      <td>1.0</td>\n",
              "      <td>[re, intranet, site]</td>\n",
              "      <td>[rika, r, these, new, original, message, from,...</td>\n",
              "    </tr>\n",
              "    <tr>\n",
              "      <th>3</th>\n",
              "      <td>thorne judy judythorneenroncom</td>\n",
              "      <td>Fri, 29 Jun 2001 10:35:17 -0500</td>\n",
              "      <td>fw ena upstream company information</td>\n",
              "      <td>johngerald we are currently trading under gtc ...</td>\n",
              "      <td>0.0</td>\n",
              "      <td>0.0</td>\n",
              "      <td>[fw, ena, upstream, company, information]</td>\n",
              "      <td>[johngerald, we, are, currently, trading, unde...</td>\n",
              "    </tr>\n",
              "    <tr>\n",
              "      <th>4</th>\n",
              "      <td>williams jason r credit jasonrwilliamsenroncom</td>\n",
              "      <td>Fri, 29 Jun 2001 10:40:02 -0500</td>\n",
              "      <td>new master physical</td>\n",
              "      <td>gerald and stacy \\n\\nattached is a worksheet f...</td>\n",
              "      <td>0.0</td>\n",
              "      <td>0.0</td>\n",
              "      <td>[new, master, physical]</td>\n",
              "      <td>[gerald, and, stacy, attached, is, a, workshee...</td>\n",
              "    </tr>\n",
              "  </tbody>\n",
              "</table>\n",
              "</div>"
            ],
            "text/plain": [
              "                                           sender  \\\n",
              "0                      hu sylvia sylviahuenroncom   \n",
              "1                        webb jay jaywebbenroncom   \n",
              "2                    symms mark marksymmsenroncom   \n",
              "3                  thorne judy judythorneenroncom   \n",
              "4  williams jason r credit jasonrwilliamsenroncom   \n",
              "\n",
              "                              date                                 subject  \\\n",
              "0  Fri, 29 Jun 2001 08:36:09 -0500  fw june 29  bna inc daily labor report   \n",
              "1  Fri, 29 Jun 2001 09:37:04 -0500                       ngx failover plan   \n",
              "2  Fri, 29 Jun 2001 08:39:30 -0500                        re intranet site   \n",
              "3  Fri, 29 Jun 2001 10:35:17 -0500     fw ena upstream company information   \n",
              "4  Fri, 29 Jun 2001 10:40:02 -0500                     new master physical   \n",
              "\n",
              "                                                body  label  urls  \\\n",
              "0  user id  enrondlr pw        bnaweb22  original...    0.0   1.0   \n",
              "1  \\nhi chris  \\n\\ntonight we are rolling out a n...    0.0   0.0   \n",
              "2  rika r these new\\n\\n original message\\nfrom \\t...    0.0   1.0   \n",
              "3  johngerald we are currently trading under gtc ...    0.0   0.0   \n",
              "4  gerald and stacy \\n\\nattached is a worksheet f...    0.0   0.0   \n",
              "\n",
              "                                   subject_tokens  \\\n",
              "0  [fw, june, 29, bna, inc, daily, labor, report]   \n",
              "1                           [ngx, failover, plan]   \n",
              "2                            [re, intranet, site]   \n",
              "3       [fw, ena, upstream, company, information]   \n",
              "4                         [new, master, physical]   \n",
              "\n",
              "                                         body_tokens  \n",
              "0  [user, id, enrondlr, pw, bnaweb22, original, m...  \n",
              "1  [hi, chris, tonight, we, are, rolling, out, a,...  \n",
              "2  [rika, r, these, new, original, message, from,...  \n",
              "3  [johngerald, we, are, currently, trading, unde...  \n",
              "4  [gerald, and, stacy, attached, is, a, workshee...  "
            ]
          },
          "execution_count": 11,
          "metadata": {},
          "output_type": "execute_result"
        }
      ],
      "source": [
        "from sklearn.feature_extraction.text import CountVectorizer\n",
        "\n",
        "vectorizer = CountVectorizer(tokenizer = lambda text: text.split())\n",
        "\n",
        "phish_df['subject_tokens'] = phish_df['subject'].apply(lambda x: vectorizer.build_tokenizer()(x))\n",
        "phish_df['body_tokens'] = phish_df['body'].apply(lambda x: vectorizer.build_tokenizer()(x))\n",
        "\n",
        "phish_df.head()"
      ]
    },
    {
      "cell_type": "code",
      "execution_count": 12,
      "metadata": {
        "colab": {
          "base_uri": "https://localhost:8080/",
          "height": 178
        },
        "id": "46ZMD5FxvYcT",
        "outputId": "b2471087-86e8-476c-d239-523ce6c546cb"
      },
      "outputs": [
        {
          "data": {
            "text/plain": [
              "label\n",
              "0.0    31503\n",
              "1.0    21383\n",
              "Name: count, dtype: int64"
            ]
          },
          "execution_count": 12,
          "metadata": {},
          "output_type": "execute_result"
        }
      ],
      "source": [
        "phish_df['label'].value_counts()"
      ]
    },
    {
      "cell_type": "code",
      "execution_count": 13,
      "metadata": {
        "colab": {
          "base_uri": "https://localhost:8080/",
          "height": 178
        },
        "id": "qyll_HSfviTQ",
        "outputId": "51654dcf-e199-4a8f-af9a-e0cde42d4d37"
      },
      "outputs": [
        {
          "data": {
            "text/plain": [
              "label\n",
              "1.0    31503\n",
              "0.0    31503\n",
              "Name: count, dtype: int64"
            ]
          },
          "execution_count": 13,
          "metadata": {},
          "output_type": "execute_result"
        }
      ],
      "source": [
        "from sklearn.utils import resample\n",
        "\n",
        "phishing_emails = phish_df[phish_df['label'] == 1]\n",
        "safe_emails = phish_df[phish_df['label'] == 0]\n",
        "\n",
        "phishing_upsampled = resample(phishing_emails,\n",
        "                              replace = True,\n",
        "                              n_samples = len(safe_emails),\n",
        "                              random_state = 42)\n",
        "\n",
        "phish_df = pd.concat([safe_emails, phishing_upsampled])\n",
        "phish_df = phish_df.sample(frac = 1, random_state = 42).reset_index(drop = True)\n",
        "\n",
        "phish_df['label'].value_counts()"
      ]
    },
    {
      "cell_type": "code",
      "execution_count": 14,
      "metadata": {
        "id": "eMltsDzya6aj"
      },
      "outputs": [],
      "source": [
        "x = phish_df[['subject', 'body']]\n",
        "y = phish_df['label']\n",
        "\n",
        "from sklearn.model_selection import train_test_split\n",
        "\n",
        "x_train, x_test, y_train, y_test = train_test_split(x, y, test_size = 0.2, random_state = 42)\n",
        "\n",
        "vectorizer = CountVectorizer(stop_words = 'english')\n",
        "\n",
        "x_train_vec = vectorizer.fit_transform(x_train['subject'] + ' ' + x_train['body'])\n",
        "x_test_vec = vectorizer.transform(x_test['subject'] + ' ' + x_test['body'])"
      ]
    },
    {
      "cell_type": "code",
      "execution_count": 15,
      "metadata": {
        "colab": {
          "base_uri": "https://localhost:8080/"
        },
        "id": "IJtLcSRhes9F",
        "outputId": "493aa0af-013f-4a81-9902-8dbf319489f7"
      },
      "outputs": [
        {
          "name": "stdout",
          "output_type": "stream",
          "text": [
            "Accuracy: 0.9869068401840978\n",
            "Classification Report:\n",
            "               precision    recall  f1-score   support\n",
            "\n",
            "         0.0       0.98      0.99      0.99      6295\n",
            "         1.0       0.99      0.98      0.99      6307\n",
            "\n",
            "    accuracy                           0.99     12602\n",
            "   macro avg       0.99      0.99      0.99     12602\n",
            "weighted avg       0.99      0.99      0.99     12602\n",
            "\n"
          ]
        }
      ],
      "source": [
        "from sklearn.ensemble import RandomForestClassifier\n",
        "from sklearn.metrics import accuracy_score, classification_report\n",
        "\n",
        "rf_model = RandomForestClassifier(n_estimators = 100, random_state = 42)\n",
        "rf_model.fit(x_train_vec, y_train)\n",
        "\n",
        "y_pred = rf_model.predict(x_test_vec)\n",
        "\n",
        "accuracy = accuracy_score(y_test, y_pred)\n",
        "print('Accuracy:', accuracy)\n",
        "\n",
        "report = classification_report(y_test, y_pred)\n",
        "print('Classification Report:\\n', report)"
      ]
    },
    {
      "cell_type": "code",
      "execution_count": 16,
      "metadata": {
        "colab": {
          "base_uri": "https://localhost:8080/",
          "height": 472
        },
        "id": "RNGeqXalgWuC",
        "outputId": "f47b5c1b-6e08-4921-eedf-6707742214a1"
      },
      "outputs": [
        {
          "data": {
            "image/png": "[encoded data removed]",
            "text/plain": [
              "<Figure size 640x480 with 2 Axes>"
            ]
          },
          "metadata": {},
          "output_type": "display_data"
        }
      ],
      "source": [
        "from sklearn.metrics import confusion_matrix\n",
        "import seaborn as sns\n",
        "import matplotlib.pyplot as plt\n",
        "\n",
        "conf_matrix = confusion_matrix(y_test, y_pred)\n",
        "sns.heatmap(conf_matrix, annot = True, fmt = 'd', cmap = 'Blues',\n",
        "            xticklabels = ['Safe', 'Phishing'], yticklabels = ['Safe', 'Phishing'])\n",
        "plt.xlabel('Predicted')\n",
        "plt.ylabel('Actual')\n",
        "plt.title('Confusion Matrix')\n",
        "plt.show()"
      ]
    },
    {
      "cell_type": "code",
      "execution_count": 17,
      "metadata": {
        "colab": {
          "base_uri": "https://localhost:8080/"
        },
        "id": "960WaSFwu8_Y",
        "outputId": "135d3bea-5ac9-4472-d81f-6c0e0fa5d50b"
      },
      "outputs": [
        {
          "data": {
            "text/plain": [
              "['vectorizer.pkl']"
            ]
          },
          "execution_count": 17,
          "metadata": {},
          "output_type": "execute_result"
        }
      ],
      "source": [
        "import joblib\n",
        "\n",
        "joblib.dump(rf_model, 'phishing_model.pkl')\n",
        "joblib.dump(vectorizer, 'phishing_vectorizer.pkl')"
      ]
    },
    {
      "cell_type": "code",
      "execution_count": 18,
      "metadata": {
        "colab": {
          "base_uri": "https://localhost:8080/"
        },
        "id": "_zNYVCufy2qo",
        "outputId": "66586db1-3441-411f-8532-c5398d35a561"
      },
      "outputs": [
        {
          "name": "stdout",
          "output_type": "stream",
          "text": [
            "Email: Dear user, your PayPal account has been compromised. Click this link to reset your password immediately.\n",
            "Predicted Label: Phishing\n",
            "\n",
            "Email: Hey team, just a reminder that our meeting is scheduled for 3 PM today. Let me know if anyone has updates.\n",
            "Predicted Label: Safe\n",
            "\n",
            "Email: Congratulations! You have won a free iPhone. Claim your prize now by providing your personal details.\n",
            "Predicted Label: Phishing\n",
            "\n",
            "Email: Reminder: Your monthly Netflix subscription payment is due soon. Please visit our website to update your payment details.\n",
            "Predicted Label: Safe\n",
            "\n"
          ]
        }
      ],
      "source": [
        "model = joblib.load('phishing_model.pkl')\n",
        "vectorizer = joblib.load('phishing_vectorizer.pkl')\n",
        "\n",
        "test_emails = [\n",
        "    \"Dear user, your PayPal account has been compromised. Click this link to reset your password immediately.\",\n",
        "    \"Hey team, just a reminder that our meeting is scheduled for 3 PM today. Let me know if anyone has updates.\",\n",
        "    \"Congratulations! You have won a free iPhone. Claim your prize now by providing your personal details.\",\n",
        "    \"Reminder: Your monthly Netflix subscription payment is due soon. Please visit our website to update your payment details.\"\n",
        "]\n",
        "\n",
        "test_emails_vect = vectorizer.transform(test_emails)\n",
        "predictions = model.predict(test_emails_vect)\n",
        "\n",
        "for email, label in zip(test_emails, predictions):\n",
        "    print(f\"Email: {email}\\nPredicted Label: {'Phishing' if label == 1 else 'Safe'}\\n\")"
      ]
    },
    {
      "cell_type": "code",
      "execution_count": null,
      "metadata": {
        "id": "KCmLCq4Rz8wb"
      },
      "outputs": [],
      "source": []
    }
  ],
  "metadata": {
    "colab": {
      "provenance": []
    },
    "kernelspec": {
      "display_name": "myenv",
      "language": "python",
      "name": "python3"
    },
    "language_info": {
      "codemirror_mode": {
        "name": "ipython",
        "version": 3
      },
      "file_extension": ".py",
      "mimetype": "text/x-python",
      "name": "python",
      "nbconvert_exporter": "python",
      "pygments_lexer": "ipython3",
      "version": "3.12.0"
    }
  },
  "nbformat": 4,
  "nbformat_minor": 0
}
